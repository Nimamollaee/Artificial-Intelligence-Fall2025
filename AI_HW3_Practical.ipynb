{
  "cells": [
    {
      "cell_type": "markdown",
      "metadata": {
        "id": "O8sQckN6DF5D"
      },
      "source": [
        "\n",
        "\n",
        "<br>\n",
        "<font>\n",
        "<div dir=ltr align=center>\n",
        "<font color=0F5298 size=7>\n",
        "    Artificial Intelligence <br>\n",
        "<font color=2565AE size=5>\n",
        "    Computer Engineering Department <br>\n",
        "    Spring 2025<br>\n",
        "<font color=3C99D size=5>\n",
        "    Practical Assignment 3\n",
        "    <br>\n",
        "     Hidden Markov Models -Bayes Net <br>\n",
        "<font color=696880 size=4>\n",
        "Amirardalan Dehghanpour\n"
      ]
    },
    {
      "cell_type": "markdown",
      "metadata": {
        "id": "eE3xCU5zDZz5"
      },
      "source": []
    },
    {
      "cell_type": "markdown",
      "metadata": {
        "id": "4tLpNArbDoYg"
      },
      "source": [
        "# HMM Assignment\n",
        "\n",
        " –Sequence Modeling with Hidden Markov Models (HMM)\n",
        "\n",
        "## Part 1: HMM Models\n",
        "\n",
        "\n",
        "Introduce the concept of Hidden Markov Models (HMMs) and their applications in sequence modeling.\n",
        "\n",
        "### -What is an HMM?\n",
        "A Hidden Markov Model is a statistical model that represents systems with:\n",
        "1. **Hidden states** – not directly observable (e.g., phonemes, weather conditions, gene regions).\n",
        "2. **Observable outputs** – emitted signals or features (e.g., audio features, weather observations).\n",
        "\n",
        "### - Key Components of an HMM:\n",
        "- **States (Z)**: Hidden variables (e.g., phonemes in speech recognition).\n",
        "- **Observations (X)**: Observable features (e.g., MFCCs from audio).\n",
        "- **Initial Probabilities (π)**: Probability of starting in a particular state.\n",
        "- **Transition Probabilities (A)**: Probability of moving from one state to another.\n",
        "- **Emission Probabilities (B)**: Probability of observing a value given a state.\n",
        "\n",
        "### -HMM Process Overview:\n",
        "At each time step `t`, the system:\n",
        "1. Transitions from one state to another using **transition probability A**\n",
        "2. Emits an observation using **emission probability B**\n",
        "\n",
        "### - Why Use HMMs?\n",
        "HMMs are useful for modeling sequential data where the underlying structure is hidden but can be inferred from observations.\n",
        "\n",
        "#### Example Applications:\n",
        "- **Speech Recognition** – Infer phonemes from audio features\n",
        "- **Natural Language Processing** – POS tagging, named entity recognition\n",
        "- **Bioinformatics** – Identify coding vs. non-coding DNA regions\n",
        "- **Finance** – Regime detection in time series\n",
        "\n",
        "---\n",
        "\n",
        " In this part, we will:\n",
        "- Work with dna datasets\n",
        "- Extract HMM parameters from data\n",
        "- Implement HMM algorithms from scratch\n",
        "- Visualize results to understand hidden sequences\n",
        "\n"
      ]
    },
    {
      "cell_type": "markdown",
      "metadata": {
        "id": "5vfdLALvSqrO"
      },
      "source": [
        "## Part 2: Extract HMM Parameters from DNA Dataset ##\n",
        "\n",
        "In this section, you'll use a labeled DNA dataset to extract the core parameters of a Hidden Markov Model:\n",
        "- **Initial Probabilities** – likelihood of starting in a specific hidden state\n",
        "- **Transition Matrix** – probabilities of switching from one hidden state to another\n",
        "- **Emission Matrix** – probabilities of emitting a specific observation given the hidden state\n",
        "\n",
        "We are given labeled sequences of DNA nucleotides with associated hidden states (`Coding` or `NonCoding`). Using this, we can compute the HMM parameters as follows:\n",
        "\n",
        "\n",
        "####  Initial Probabilities (π)\n",
        "- For each sequence, check the **first position** (Position == 1).\n",
        "- Count how many times each hidden state appears at the start.\n",
        "- Normalize the counts to get the starting probability distribution.\n",
        "\n",
        "####  Transition Probabilities (A)\n",
        "- For each sequence, look at every **pair of consecutive states** (from Position _t_ to _t+1_).\n",
        "- Count how often each transition occurs (e.g., Coding → Coding, Coding → NonCoding).\n",
        "- For each state, normalize its outgoing transition counts to sum to 1.\n",
        "\n",
        "####  Emission Probabilities (B)\n",
        "- For each state, count how frequently it emits each nucleotide (A, C, G, T).\n",
        "- Normalize these counts within each state.\n",
        "\n",
        "This method is based on **maximum likelihood estimation(MLE)** using frequency counts, which is valid because we have access to the true hidden states.\n",
        "These parameters will be used in later for performing inference (Forward/Viterbi).\n",
        "\n"
      ]
    },
    {
      "cell_type": "markdown",
      "metadata": {
        "id": "pEoz9XPzVHFV"
      },
      "source": [
        " ## Load the Dataset ##"
      ]
    },
    {
      "cell_type": "code",
      "execution_count": 1775,
      "metadata": {
        "colab": {
          "base_uri": "https://localhost:8080/",
          "height": 206
        },
        "id": "5lnwp1Xh72Rh",
        "outputId": "413026ad-f448-4e69-f6e3-c22fde916195"
      },
      "outputs": [
        {
          "name": "stdout",
          "output_type": "stream",
          "text": [
            "   Sequence_ID  Position Nucleotide      State\n",
            "0            1         1          A     Coding\n",
            "1            1         2          G  NonCoding\n",
            "2            1         3          G     Coding\n",
            "3            1         4          A  NonCoding\n",
            "4            1         5          T     Coding\n",
            "State\n",
            "Coding       30705\n",
            "NonCoding    29295\n",
            "Name: count, dtype: int64\n"
          ]
        }
      ],
      "source": [
        "# Load the synthetic DNA dataset\n",
        "import pandas as pd\n",
        "import numpy as np\n",
        "\n",
        "# Load dataset \n",
        "dna_data = pd.read_csv(\"dna_dataset.csv\")\n",
        "\n",
        "# Preview the data\n",
        "print(dna_data.head())\n",
        "print(dna_data['State'].value_counts())\n"
      ]
    },
    {
      "cell_type": "markdown",
      "metadata": {
        "id": "iI3SDp-GVp_B"
      },
      "source": [
        "## Identify Unique States and Observations ##"
      ]
    },
    {
      "cell_type": "code",
      "execution_count": 1776,
      "metadata": {
        "colab": {
          "base_uri": "https://localhost:8080/"
        },
        "id": "vElphboOUiMJ",
        "outputId": "0aae494f-e43b-46f3-fb29-0ac93001be50"
      },
      "outputs": [
        {
          "name": "stdout",
          "output_type": "stream",
          "text": [
            "States: ['Coding' 'NonCoding']\n",
            "Observations: ['A' 'G' 'T' 'C']\n"
          ]
        }
      ],
      "source": [
        "states = dna_data['State'].unique()\n",
        "observations = dna_data['Nucleotide'].unique()\n",
        "print(\"States:\", states)\n",
        "print(\"Observations:\", observations)"
      ]
    },
    {
      "cell_type": "markdown",
      "metadata": {
        "id": "Z8QHyg9MVtHU"
      },
      "source": [
        "## Estimate Initial Probabilities (π) ##"
      ]
    },
    {
      "cell_type": "code",
      "execution_count": 1777,
      "metadata": {
        "colab": {
          "base_uri": "https://localhost:8080/"
        },
        "id": "khYvv2bNU1mK",
        "outputId": "68fe1984-264a-49bd-b8d8-470704c3d119"
      },
      "outputs": [
        {
          "name": "stdout",
          "output_type": "stream",
          "text": [
            "Initial Probabilities (π): {'Coding': 0.49, 'NonCoding': 0.51}\n"
          ]
        }
      ],
      "source": [
        "# Compute the probability of starting in each state.\n",
        "# This is based on the first position of each sequence in the dataset.\n",
        "\n",
        "\n",
        "start_states = dna_data[dna_data['Position'] == 1]['State']\n",
        "\n",
        "\n",
        "start_counts = start_states.value_counts().reindex(states, fill_value=0)\n",
        "\n",
        "initial_probs = (start_counts / start_counts.sum()).to_dict()\n",
        "\n",
        "print(\"Initial Probabilities (π):\", initial_probs)\n"
      ]
    },
    {
      "cell_type": "markdown",
      "metadata": {
        "id": "XfFEhXMBV07a"
      },
      "source": [
        "## Estimate Transition Probabilities (A) ##"
      ]
    },
    {
      "cell_type": "code",
      "execution_count": 1778,
      "metadata": {
        "colab": {
          "base_uri": "https://localhost:8080/"
        },
        "id": "ha88YAjyU8Ry",
        "outputId": "160e0b03-0ba3-4bbc-e7c5-8e3b17317bb9"
      },
      "outputs": [
        {
          "name": "stdout",
          "output_type": "stream",
          "text": [
            "Transition Probabilities (A):\n",
            "Coding → {'Coding': 0.4450775142440705, 'NonCoding': 0.5549224857559295}\n",
            "NonCoding → {'Coding': 0.5823615160349854, 'NonCoding': 0.4176384839650146}\n"
          ]
        }
      ],
      "source": [
        "# Compute the probability of transitioning from one hidden state to another.\n",
        "# Based on how states change within each sequence.\n",
        "\n",
        "# Step 1: Initialize transition counts\n",
        "transition_counts = {from_state: {to_state: 0 for to_state in states} for from_state in states}\n",
        "\n",
        "# Step 2: Group by sequence and count transitions\n",
        "for seq_id, group in dna_data.groupby('Sequence_ID'):\n",
        "    states_seq = group.sort_values('Position')['State'].values\n",
        "    for i in range(len(states_seq) - 1):\n",
        "        from_state = states_seq[i]\n",
        "        to_state = states_seq[i + 1]\n",
        "        transition_counts[from_state][to_state] += 1\n",
        "\n",
        "# Step 3: Normalize the transition counts to get probabilities\n",
        "transition_probs = {}\n",
        "for from_state, to_counts in transition_counts.items():\n",
        "    total = sum(to_counts.values())\n",
        "    if total > 0:\n",
        "        transition_probs[from_state] = {to_state: count / total for to_state, count in to_counts.items()}\n",
        "    else:\n",
        "        transition_probs[from_state] = {to_state: 0.0 for to_state in to_counts}\n",
        "\n",
        "# Print result\n",
        "print(\"Transition Probabilities (A):\")\n",
        "for from_state, to_probs in transition_probs.items():\n",
        "    print(from_state, \"→\", to_probs)\n"
      ]
    },
    {
      "cell_type": "markdown",
      "metadata": {
        "id": "wHCLsebTV3-Q"
      },
      "source": [
        "## Estimate Emission Probabilities (B) ##"
      ]
    },
    {
      "cell_type": "code",
      "execution_count": 1779,
      "metadata": {
        "colab": {
          "base_uri": "https://localhost:8080/"
        },
        "id": "golvyftIVATT",
        "outputId": "d5c7ccad-88b5-4b84-fcea-207b862f33a3"
      },
      "outputs": [
        {
          "name": "stdout",
          "output_type": "stream",
          "text": [
            "Emission Probabilities (B):\n",
            "Coding → {'A': 0.2556261195245074, 'G': 0.24950333821853118, 'T': 0.2441947565543071, 'C': 0.2506757857026543}\n",
            "NonCoding → {'A': 0.35343915343915344, 'G': 0.1501962792285373, 'T': 0.3484212322922, 'C': 0.14794333504010923}\n"
          ]
        }
      ],
      "source": [
        "# Compute the probability of emitting a given nucleotide from each hidden state.\n",
        "# Based on how frequently each nucleotide appears for a given state.\n",
        "\n",
        "# Step 1: Initialize emission counts\n",
        "emission_counts = {state: {obs: 0 for obs in observations} for state in states}\n",
        "\n",
        "# Step 2: Count emissions for each (state, observation) pair\n",
        "for _, row in dna_data.iterrows():\n",
        "    state = row['State']\n",
        "    obs = row['Nucleotide']\n",
        "    emission_counts[state][obs] += 1\n",
        "\n",
        "# Step 3: Normalize the counts to get probabilities\n",
        "emission_probs = {}\n",
        "for state, obs_counts in emission_counts.items():\n",
        "    total = sum(obs_counts.values())\n",
        "    if total > 0:\n",
        "        emission_probs[state] = {obs: count / total for obs, count in obs_counts.items()}\n",
        "    else:\n",
        "        emission_probs[state] = {obs: 0.0 for obs in obs_counts}\n",
        "\n",
        "# Print result\n",
        "print(\"Emission Probabilities (B):\")\n",
        "for state, probs in emission_probs.items():\n",
        "    print(state, \"→\", probs)\n"
      ]
    },
    {
      "cell_type": "markdown",
      "metadata": {
        "id": "l-3vE9r9Ko5P"
      },
      "source": [
        "## Part 4: Forward Algorithm (Filtering with Elapse Time + Observation)\n",
        "\n",
        "The **Forward Algorithm** helps us compute the probability of an observation sequence in a Hidden Markov Model (HMM). It also gives us the belief about the system's hidden state at each time step.\n",
        "\n",
        "To do this, it recursively applies two updates at each time step `t`:\n",
        "\n",
        "\n",
        "###  Step 1: Elapse Time (Prediction)\n",
        "Predict the probability of being in each hidden state at time `t`, before seeing the new observation:\n",
        "\n",
        "$$\n",
        "P(x_t | e_{1:t-1}) = \\sum_{x_{t-1}} P(x_t | x_{t-1}) \\cdot P(x_{t-1} | e_{1:t-1})\n",
        "$$\n",
        "\n",
        "This uses the **transition probabilities (A)** and previous beliefs.\n",
        "\n",
        "\n",
        "###  Step 2: Observation Update (Bayesian Update)\n",
        "Once we see the new observation `e_t`, we update our beliefs:\n",
        "\n",
        "$$\n",
        "P(x_t | e_{1:t}) \\propto P(e_t | x_t) \\cdot P(x_t | e_{1:t-1})\n",
        "$$\n",
        "\n",
        "This uses the **emission probabilities (B)** and normalizes the result.\n",
        "\n",
        "\n",
        "### Final Result:\n",
        "- We maintain a belief `α_t(x)` for each state `x` at every time step.\n",
        "- We can compute the total probability of the sequence by summing the final α values.\n",
        "\n"
      ]
    },
    {
      "cell_type": "code",
      "execution_count": 1780,
      "metadata": {
        "id": "-nkAkw2cKppj"
      },
      "outputs": [],
      "source": [
        "def elapse_time(prior, transition_probs, states):\n",
        "    \"\"\"\n",
        "    Predicts the belief at time t using the belief at time t-1 and transition matrix A.\n",
        "\n",
        "    Parameters:\n",
        "    - prior: dict of P(state at t-1 | evidence up to t-1)\n",
        "    - transition_probs: dict of dicts P(to_state | from_state)\n",
        "    - states: list of possible states\n",
        "\n",
        "    Returns:\n",
        "    - prediction: dict of P(state at t | evidence up to t-1)\n",
        "    \"\"\"\n",
        "    prediction = {}\n",
        "\n",
        "    # Iterate over each state at time t\n",
        "    for state_t in states:\n",
        "        # Sum the probabilities of reaching state_t from all possible states at time t-1\n",
        "        prediction[state_t] = sum(prior[state_t_prev] * transition_probs[state_t_prev].get(state_t, 0)\n",
        "                                  for state_t_prev in states)\n",
        "\n",
        "    return prediction\n"
      ]
    },
    {
      "cell_type": "code",
      "execution_count": 1781,
      "metadata": {
        "id": "5Dptj_FYQ_5o"
      },
      "outputs": [],
      "source": [
        "def observe(predicted, observation, emission_probs, states):\n",
        "    \"\"\"\n",
        "    Updates the belief at time t after seeing observation e_t, using emission matrix B.\n",
        "\n",
        "    Parameters:\n",
        "    - predicted: dict of P(state at t | evidence up to t-1)\n",
        "    - observation: the observed symbol at time t (e.g., 'A')\n",
        "    - emission_probs: dict of dicts P(obs | state)\n",
        "    - states: list of possible states\n",
        "\n",
        "    Returns:\n",
        "    - updated: dict of P(state at t | evidence up to t)\n",
        "    \"\"\"\n",
        "    updated = {}\n",
        "\n",
        "    # Step 1: Apply the Bayesian update for each state\n",
        "    for state in states:\n",
        "        # Multiply the predicted probability by the emission probability of the observation\n",
        "        updated[state] = predicted[state] * emission_probs[state].get(observation, 0)\n",
        "    \n",
        "    # Step 2: Normalize the updated probabilities to ensure they sum to 1\n",
        "    total_prob = sum(updated.values())\n",
        "    if total_prob > 0:\n",
        "        updated = {state: prob / total_prob for state, prob in updated.items()}\n",
        "    else:\n",
        "        updated = {state: 0.0 for state in states}  # In case of zero probability\n",
        "\n",
        "    return updated\n",
        "\n"
      ]
    },
    {
      "cell_type": "code",
      "execution_count": 1782,
      "metadata": {
        "id": "JFWK3lT5REqP"
      },
      "outputs": [],
      "source": [
        "def forward_algorithm(observation_sequence, states, start_probs, transition_probs, emission_probs):\n",
        "    \"\"\"\n",
        "    Runs the full forward algorithm over an observation sequence.\n",
        "\n",
        "    Parameters:\n",
        "    - observation_sequence: list of observations (e.g., ['A', 'C', 'T', ...])\n",
        "    - states: list of hidden states\n",
        "    - start_probs: initial state distribution (π)\n",
        "    - transition_probs: transition matrix A\n",
        "    - emission_probs: emission matrix B\n",
        "\n",
        "    Returns:\n",
        "    - alpha_list: list of belief dicts (α_t) over time\n",
        "    - sequence_prob: total probability of the full observation sequence\n",
        "    \"\"\"\n",
        "    # Initialize the alpha_list to store the belief at each time step\n",
        "    alpha_list = []\n",
        "\n",
        "    # Step 1: Initialization (at time t=1)\n",
        "    # Initialize the belief for the first observation\n",
        "    belief = {}\n",
        "    for state in states:\n",
        "        belief[state] = start_probs[state] * emission_probs[state].get(observation_sequence[0], 0)\n",
        "\n",
        "    # Normalize the initial belief\n",
        "    total_prob = sum(belief.values())\n",
        "    if total_prob > 0:\n",
        "        belief = {state: prob / total_prob for state, prob in belief.items()}\n",
        "    else:\n",
        "        belief = {state: 0.0 for state in states}\n",
        "\n",
        "    # Add the initial belief to the alpha_list\n",
        "    alpha_list.append(belief)\n",
        "\n",
        "    # Step 2: Recursion (for subsequent time steps t=2 to T)\n",
        "    for t in range(1, len(observation_sequence)):\n",
        "        # Step 2.1: Elapse time (prediction)\n",
        "        prior_belief = alpha_list[-1]  # Belief at time t-1\n",
        "        predicted_belief = elapse_time(prior_belief, transition_probs, states)\n",
        "\n",
        "        # Step 2.2: Observation update (Bayesian update)\n",
        "        observation = observation_sequence[t]\n",
        "        updated_belief = observe(predicted_belief, observation, emission_probs, states)\n",
        "\n",
        "        # Add the updated belief at time t to the alpha_list\n",
        "        alpha_list.append(updated_belief)\n",
        "\n",
        "    # Step 3: Final probability of the observation sequence\n",
        "    sequence_prob = sum(alpha_list[-1].values())\n",
        "\n",
        "    return alpha_list, sequence_prob\n"
      ]
    },
    {
      "cell_type": "code",
      "execution_count": 1783,
      "metadata": {
        "colab": {
          "base_uri": "https://localhost:8080/"
        },
        "id": "s47NIILHSJ9h",
        "outputId": "93cdeeaa-ef31-41ca-b606-aeea33ae090d"
      },
      "outputs": [
        {
          "name": "stdout",
          "output_type": "stream",
          "text": [
            "\n",
            "Total probability of sequence ['A', 'C', 'C', 'T', 'T', 'T', 'A', 'G']: 1.000000\n",
            "\n",
            "Belief at final time step:\n",
            "P(Coding) = 0.6443\n",
            "P(NonCoding) = 0.3557\n"
          ]
        }
      ],
      "source": [
        "# Small test case\n",
        "test_sequence = ['A','C','C','T','T','T','A','G']\n",
        "\n",
        "# Run forward algorithm\n",
        "alpha_vals, prob = forward_algorithm(\n",
        "    test_sequence,\n",
        "    states,\n",
        "    initial_probs,\n",
        "    transition_probs,\n",
        "    emission_probs\n",
        ")\n",
        "\n",
        "print(f\"\\nTotal probability of sequence {test_sequence}: {prob:.6f}\")\n",
        "print(\"\\nBelief at final time step:\")\n",
        "for state, p in alpha_vals[-1].items():\n",
        "    print(f\"P({state}) = {p:.4f}\")\n"
      ]
    },
    {
      "cell_type": "markdown",
      "metadata": {
        "id": "bU1YBOafTy9z"
      },
      "source": [
        "## Part 5: Viterbi Algorithm – Most Likely State Sequence\n",
        "\n",
        "While the Forward Algorithm gives us the probability of a sequence of observations, the **Viterbi Algorithm** answers a different question:\n",
        "\n",
        "> What is the **most likely sequence of hidden states** that could have generated this observation sequence?\n",
        "\n",
        "\n",
        "\n",
        "The Viterbi Algorithm is a dynamic programming approach. At each time step `t`, it keeps track of:\n",
        "\n",
        "- The **highest probability path** to each state.\n",
        "- A **backpointer** that tells us which state led to that one.\n",
        "\n",
        "###  Two Main Steps:\n",
        "\n",
        "1. **Recursion (Forward Pass):**\n",
        "$$\n",
        "\\delta_t(s) = \\max_{s'} [\\delta_{t-1}(s') \\cdot P(s | s')] \\cdot P(obs_t | s)\n",
        "$$\n",
        "\n",
        "2. **Backtracking (Backward Pass):**\n",
        "$$\n",
        "\\text{Backtrace from final best state} \\rightarrow \\text{recover most likely path}\n",
        "$$\n",
        "\n",
        "\n",
        "\n"
      ]
    },
    {
      "cell_type": "code",
      "execution_count": 1784,
      "metadata": {
        "id": "hwHMxaPHUM4E"
      },
      "outputs": [],
      "source": [
        "def viterbi(obs, states, start_p, trans_p, emit_p):\n",
        "    \"\"\"\n",
        "    Viterbi algorithm to find the most probable sequence of hidden states.\n",
        "\n",
        "    Parameters:\n",
        "    - obs: list of observations (e.g., ['A', 'C', 'T', ...])\n",
        "    - states: list of hidden states (e.g., ['Coding', 'NonCoding'])\n",
        "    - start_p: initial state probabilities\n",
        "    - trans_p: transition probability matrix\n",
        "    - emit_p: emission probability matrix\n",
        "\n",
        "    Returns:\n",
        "    - prob: probability of the most likely state sequence\n",
        "    - path: list of most likely hidden states\n",
        "    \"\"\"\n",
        "    # Step 1: Initialization\n",
        "    # V[t][state] will store the highest probability of any state sequence that ends with state at time t.\n",
        "    V = [{}]\n",
        "    # backpointer[t][state] will store the state at time t-1 that led to the highest probability for state at time t.\n",
        "    backpointer = [{}]\n",
        "    \n",
        "    # Initialization for the first observation\n",
        "    for state in states:\n",
        "        V[0][state] = start_p[state] * emit_p[state].get(obs[0], 0)\n",
        "        backpointer[0][state] = None  # No previous state for the first observation\n",
        "    \n",
        "    # Step 2: Recursion (for subsequent time steps)\n",
        "    for t in range(1, len(obs)):\n",
        "        V.append({})\n",
        "        backpointer.append({})\n",
        "        \n",
        "        for state in states:\n",
        "            # Find the maximum probability from the previous states for state at time t\n",
        "            (max_prob, prev_state) = max(\n",
        "                [(V[t-1][prev_state] * trans_p[prev_state].get(state, 0) * emit_p[state].get(obs[t], 0), prev_state)\n",
        "                 for prev_state in states]\n",
        "            )\n",
        "            \n",
        "            V[t][state] = max_prob\n",
        "            backpointer[t][state] = prev_state  # Store the previous state that led to the optimal path at time t\n",
        "    \n",
        "    # Step 3: Termination (find the final state with the highest probability)\n",
        "    final_state = max(V[len(obs)-1], key=V[len(obs)-1].get)\n",
        "    prob = V[len(obs)-1][final_state]\n",
        "\n",
        "    # Step 4: Backtracking (find the best path by backtracking from the final state)\n",
        "    path = [final_state]\n",
        "    for t in range(len(obs)-1, 0, -1):\n",
        "        path.insert(0, backpointer[t][path[0]])  # Add the previous state to the path\n",
        "\n",
        "    return prob, path\n"
      ]
    },
    {
      "cell_type": "code",
      "execution_count": 1785,
      "metadata": {
        "colab": {
          "base_uri": "https://localhost:8080/"
        },
        "id": "DJoOChkcUR6V",
        "outputId": "beac094a-99bb-4124-8e56-a7f8b8d1dede"
      },
      "outputs": [
        {
          "name": "stdout",
          "output_type": "stream",
          "text": [
            "Observation sequence: ['A', 'C', 'G', 'T', 'A', 'A', 'C', 'C', 'C', 'A']\n",
            "Most likely state sequence: ['NonCoding', 'Coding', 'Coding', 'NonCoding', 'Coding', 'NonCoding', 'Coding', 'Coding', 'Coding', 'NonCoding']\n",
            "Probability of this path: 5.879383986938688e-09\n"
          ]
        }
      ],
      "source": [
        "obs_seq = ['A', 'C', 'G', 'T', 'A','A', 'C', 'C', 'C', 'A']\n",
        "\n",
        "prob, most_likely_path = viterbi(\n",
        "    obs_seq,\n",
        "    states,\n",
        "    initial_probs,\n",
        "    transition_probs,\n",
        "    emission_probs\n",
        ")\n",
        "\n",
        "print(\"Observation sequence:\", obs_seq)\n",
        "print(\"Most likely state sequence:\", most_likely_path)\n",
        "print(\"Probability of this path:\", prob)\n",
        "\n"
      ]
    },
    {
      "cell_type": "markdown",
      "metadata": {
        "id": "SBJ0kz6_n-V3"
      },
      "source": [
        "## Part 6: Visualizing the Most Likely Hidden State Sequence (Viterbi Path)\n",
        "\n",
        "After using the Viterbi algorithm, we get the **most likely sequence of hidden states** that could have produced the given observations.\n",
        "\n",
        "In this part, we'll:\n",
        "1. Visually display the Viterbi path over time.\n",
        "2. Compare it with the **true hidden state sequence** (if known).\n",
        "3. Visualize it on top of the **Forward Algorithm belief heatmap**.\n",
        "\n",
        "This helps understand where the model is confident, where it might be uncertain, and how accurate the predictions are.\n"
      ]
    },
    {
      "cell_type": "code",
      "execution_count": 1786,
      "metadata": {
        "id": "V2ik15hooGq0"
      },
      "outputs": [],
      "source": [
        "import matplotlib.pyplot as plt\n",
        "\n",
        "def plot_viterbi_path(viterbi_path, states, title=\"Viterbi Most Likely Path\"):\n",
        "    \"\"\"\n",
        "    Plots the Viterbi path as a timeline of states.\n",
        "\n",
        "    Parameters:\n",
        "    - viterbi_path: list of predicted states from Viterbi algorithm\n",
        "    - states: list of possible hidden states\n",
        "    - title: the title of the plot (optional, default is \"Viterbi Most Likely Path\")\n",
        "    \"\"\"\n",
        "    time_steps = range(len(viterbi_path))  # Time steps (index of observations)\n",
        "\n",
        "    # Mapping states to integers for plotting\n",
        "    state_to_int = {state: idx for idx, state in enumerate(states)}\n",
        "\n",
        "    # Convert viterbi path states to integers for y-axis\n",
        "    state_indices = [state_to_int[state] for state in viterbi_path]\n",
        "\n",
        "    # Create a plot\n",
        "    plt.figure(figsize=(10, 6))\n",
        "\n",
        "    # Plot the Viterbi path as a series of steps (vertical lines)\n",
        "    plt.step(time_steps, state_indices, where='mid', label=\"Viterbi Path\", color='b', linestyle='-', linewidth=2)\n",
        "\n",
        "    # Add labels for the states\n",
        "    plt.yticks(range(len(states)), states)\n",
        "\n",
        "    # Add titles and labels\n",
        "    plt.title(title)\n",
        "    plt.xlabel(\"Time Steps\")\n",
        "    plt.ylabel(\"Hidden States\")\n",
        "    plt.grid(True)\n",
        "    plt.xticks(time_steps)  # Ensure x-axis shows each time step\n",
        "\n",
        "    plt.show()\n",
        "\n"
      ]
    },
    {
      "cell_type": "code",
      "execution_count": 1787,
      "metadata": {
        "colab": {
          "base_uri": "https://localhost:8080/",
          "height": 158
        },
        "id": "ok79LhSdoJIQ",
        "outputId": "334b01a5-c9cc-4d36-d1b2-c5c1f78f71aa"
      },
      "outputs": [
        {
          "data": {
            "image/png": "[encoded data removed]",
            "text/plain": [
              "<Figure size 1000x600 with 1 Axes>"
            ]
          },
          "metadata": {},
          "output_type": "display_data"
        }
      ],
      "source": [
        "# Run Viterbi on example observation sequence\n",
        "obs_seq = ['A', 'C', 'T', 'G', 'A']\n",
        "prob, viterbi_path = viterbi(obs_seq, states, initial_probs, transition_probs, emission_probs)\n",
        "\n",
        "# Plot the path\n",
        "plot_viterbi_path(viterbi_path, states)\n"
      ]
    },
    {
      "cell_type": "markdown",
      "metadata": {
        "id": "NiBtzWSML13w"
      },
      "source": [
        "# Bayesian Networks\n",
        "\n",
        "In this assignment, we will work with a Bayesian Network based on a scenario: **a group of friends deciding whether to order pizza** and how that decision, along with other factors, affects their evening satisfaction.\n",
        "\n",
        "We'll learn how to:\n",
        "- Represent a Bayesian Network\n",
        "- Define its conditional probability tables (CPTs)\n",
        "- Implement inference algorithms\n",
        "\n",
        "---\n",
        "\n",
        "## Scenario\n",
        "\n",
        "Imagine a group of friends planning their evening. They may or may not be hungry. It might be a weekend. These factors influence whether they decide to order pizza. If pizza is ordered **and** friends are free, they might plan a movie night. The presence of a movie night then affects how satisfied they are.\n",
        "\n",
        "---\n",
        "\n",
        "## 🔍 Variables\n",
        "\n",
        "| Variable | Description | Values |\n",
        "|----------|-------------|--------|\n",
        "| `H` | It's a hungry day | {True, False} |\n",
        "| `W` | It's the weekend | {True, False} |\n",
        "| `P` | They order pizza | {True, False} |\n",
        "| `F` | Friends are free | {True, False} |\n",
        "| `M` | Movie night is planned | {True, False} |\n",
        "| `S` | Satisfaction level | {'high', 'medium', 'low'} |\n",
        "\n",
        "---\n",
        "\n",
        "## 🔗 Network Structure\n",
        "\n",
        "The relationships among the variables and their conditional probablities follow these tables:\n",
        "\n",
        "### P(H) — Hungry\n",
        "| H     | P(H) |\n",
        "|-------|------|\n",
        "| True  | 0.6  |\n",
        "| False | 0.4  |\n",
        "\n",
        "### P(W) — Weekend\n",
        "| W     | P(W) |\n",
        "|-------|------|\n",
        "| True  | 0.3  |\n",
        "| False | 0.7  |\n",
        "\n",
        "### P(F) — Friends Free\n",
        "| F     | P(F) |\n",
        "|-------|------|\n",
        "| True  | 0.8  |\n",
        "| False | 0.2  |\n",
        "\n",
        "### P(P | H, W) — Pizza\n",
        "| H     | W     | P(P=True) | P(P=False) |\n",
        "|-------|-------|-----------|------------|\n",
        "| True  | True  | 0.95      | 0.05       |\n",
        "| True  | False | 0.7       | 0.3        |\n",
        "| False | True  | 0.5       | 0.5        |\n",
        "| False | False | 0.1       | 0.9        |\n",
        "\n",
        "### P(M | P, F) — Movie Night\n",
        "| P     | F     | P(M=True) | P(M=False) |\n",
        "|-------|-------|-----------|------------|\n",
        "| True  | True  | 0.9       | 0.1        |\n",
        "| True  | False | 0.4       | 0.6        |\n",
        "| False | True  | 0.6       | 0.4        |\n",
        "| False | False | 0.2       | 0.8        |\n",
        "\n",
        "### P(S | M) — Satisfaction\n",
        "| M     | S        | P(S)   |\n",
        "|-------|----------|--------|\n",
        "| True  | high     | 0.7    |\n",
        "|       | medium   | 0.25   |\n",
        "|       | low      | 0.05   |\n",
        "| False | high     | 0.1    |\n",
        "|       | medium   | 0.3    |\n",
        "|       | low      | 0.6    |\n",
        "\n",
        "\n"
      ]
    },
    {
      "cell_type": "markdown",
      "metadata": {
        "id": "xqt_QjjkNED-"
      },
      "source": [
        "###  Step 1: Define and Visualize the Bayesian Network\n",
        "#### Your task in this step:\n",
        "##### 1. Draw the Bayesian Network using networkx and matplotlib\n",
        "##### 2. Create a dictionary called `bayes_net` that stores all variables, their parents, and their CPTs"
      ]
    },
    {
      "cell_type": "code",
      "execution_count": 1788,
      "metadata": {
        "id": "wWAcKOFpNwE1"
      },
      "outputs": [],
      "source": [
        "import networkx as nx\n",
        "import matplotlib.pyplot as plt"
      ]
    },
    {
      "cell_type": "code",
      "execution_count": 1789,
      "metadata": {
        "colab": {
          "base_uri": "https://localhost:8080/",
          "height": 676
        },
        "id": "cGBlqvVCOBTn",
        "outputId": "a29fe149-5dd8-493a-8aa8-9908f095aaec"
      },
      "outputs": [
        {
          "data": {
            "image/png": "[encoded data removed]",
            "text/plain": [
              "<Figure size 800x600 with 1 Axes>"
            ]
          },
          "metadata": {},
          "output_type": "display_data"
        },
        {
          "name": "stdout",
          "output_type": "stream",
          "text": [
            "0.7\n"
          ]
        }
      ],
      "source": [
        "# --- TODO: Draw the graph ---\n",
        "\n",
        "# Create a directed graph to represent the Bayesian Network\n",
        "G = nx.DiGraph()\n",
        "\n",
        "# Add edges based on the Pizza Night Bayes Net\n",
        "# Define the dependencies (edges)\n",
        "G.add_edge('H', 'P')  # H -> P\n",
        "G.add_edge('W', 'P')  # W -> P\n",
        "G.add_edge('P', 'M')  # P -> M\n",
        "G.add_edge('F', 'M')  # F -> M\n",
        "G.add_edge('M', 'S')  # M -> S\n",
        "\n",
        "# Plot the graph\n",
        "plt.figure(figsize=(8, 6))\n",
        "pos = nx.spring_layout(G, seed=42)  # Set seed for reproducible layout\n",
        "nx.draw(G, pos, with_labels=True, node_size=2000, node_color='lightyellow',\n",
        "        font_size=14, edge_color='gray', font_weight='bold', arrows=True)\n",
        "plt.title(\"Bayesian Network: Pizza Night\")\n",
        "plt.show()\n",
        "\n",
        "# --- TODO: Define the Bayesian Network as a dictionary ---\n",
        "\n",
        "bayes_net = {\n",
        "    'H': {\n",
        "        'values': [True, False],\n",
        "        'parents': [],\n",
        "        'cpt': {\n",
        "            True: 0.6,\n",
        "            False: 0.4\n",
        "        }\n",
        "    },\n",
        "    'W': {\n",
        "        'values': [True, False],\n",
        "        'parents': [],\n",
        "        'cpt': {\n",
        "            True: 0.3,\n",
        "            False: 0.7\n",
        "        }\n",
        "    },\n",
        "    'F': {\n",
        "        'values': [True, False],\n",
        "        'parents': [],\n",
        "        'cpt': {\n",
        "            True: 0.8,\n",
        "            False: 0.2\n",
        "        }\n",
        "    },\n",
        "    'P': {\n",
        "        'values': [True, False],\n",
        "        'parents': ['H', 'W'],\n",
        "        'cpt': {\n",
        "            (True, True): {True: 0.95, False: 0.05},\n",
        "            (True, False): {True: 0.7, False: 0.3},\n",
        "            (False, True): {True: 0.5, False: 0.5},\n",
        "            (False, False): {True: 0.1, False: 0.9}\n",
        "        }\n",
        "    },\n",
        "    'M': {'values': [True, False],\n",
        "        'parents': ['P', 'F'],\n",
        "        'cpt': {\n",
        "            (True, True): {True: 0.9, False: 0.1},\n",
        "            (True, False): {True: 0.4, False: 0.6},\n",
        "            (False, True): {True: 0.6, False: 0.4},\n",
        "            (False, False): {True: 0.2, False: 0.8}\n",
        "        }\n",
        "    },\n",
        "    'S': {'values': ['high', 'medium', 'low'],\n",
        "        'parents': ['M'],\n",
        "        'cpt': {\n",
        "            True: {'high': 0.7, 'medium': 0.25, 'low': 0.05},\n",
        "            False: {'high': 0.1, 'medium': 0.3, 'low': 0.6}\n",
        "        }\n",
        "    }\n",
        "}\n",
        "\n",
        "# --- Helper Function: Get Probability based on Evidence ---\n",
        "\n",
        "def get_prob(var, value, evidence, bayes_net):\n",
        "    \"\"\"\n",
        "    Return the probability of var = value given evidence,\n",
        "    based on the structure and CPTs in the bayes_net dictionary.\n",
        "    \"\"\"\n",
        "    node = bayes_net[var]\n",
        "    parents = node['parents']\n",
        "    cpt = node['cpt']\n",
        "\n",
        "    # Case when there are no parents (direct probability)\n",
        "    if not parents:\n",
        "        return cpt[value]\n",
        "    else:\n",
        "        # Build the key for the CPT based on the evidence\n",
        "        try:\n",
        "            if len(parents) == 1:\n",
        "                key = evidence[parents[0]]\n",
        "            else:\n",
        "                key = tuple(evidence[parent] for parent in parents)\n",
        "        except KeyError as e:\n",
        "            raise ValueError(f\"Missing parent '{e.args[0]}' for variable '{var}' in evidence.\")\n",
        "\n",
        "        # Return the probability for the given value\n",
        "        return cpt[key][value]\n",
        "\n",
        "# Test the function with the query: What is P(P=True | H=True, W=False)?\n",
        "print(get_prob('P', True, {'H': True, 'W': False}, bayes_net))\n"
      ]
    },
    {
      "cell_type": "markdown",
      "metadata": {
        "id": "nACph37ySuHn"
      },
      "source": [
        "# Step 2: Inference by Enumeration\n",
        "\n",
        "In this step, you'll implement **exact inference** in a Bayesian Network using the **enumeration algorithm**.\n",
        "\n",
        "---\n",
        "\n",
        "##  Goal :\n",
        "\n",
        "We want to compute the probability of a **query variable** given some **evidence**.  \n",
        "For example:\n",
        "\n",
        "$$\n",
        "P(S = \\text{high} \\mid H = \\text{True}, W = \\text{True})\n",
        "$$\n",
        "\n",
        "To do this, we'll use:\n",
        "\n",
        "1. **A recursive function `enumerate_all`**  \n",
        "   - Loops through all hidden variables and sums over them\n",
        "   - Multiplies conditional probabilities using the Bayesian Network\n",
        "\n",
        "2. **A main function `query_enum`**  \n",
        "   - Computes the numerator: probability of the query value given evidence\n",
        "   - Computes the denominator: normalization over all possible values of the query variable\n",
        "   - Returns the final **normalized probability**\n",
        "\n",
        "---\n",
        "\n",
        "\n",
        "\n",
        "\n"
      ]
    },
    {
      "cell_type": "code",
      "execution_count": 1790,
      "metadata": {
        "id": "0vPW0A6tSw0X"
      },
      "outputs": [],
      "source": [
        "variables = ['H', 'W', 'F', 'P', 'M', 'S']  # Must be topological order\n",
        "\n",
        "\n",
        "\n",
        "def enumerate_all(vars_left, evidence, bayes_net):\n",
        "    \"\"\"Exact recursive enumeration matching textbook algorithm.\"\"\"\n",
        "    if not vars_left:\n",
        "        return 1.0\n",
        "    \n",
        "    current_var = vars_left[0]\n",
        "    node = bayes_net[current_var]\n",
        "    \n",
        "    if current_var in evidence:\n",
        "        # Observed variable path\n",
        "        value = evidence[current_var]\n",
        "        prob = get_prob(current_var, value, evidence, bayes_net)\n",
        "        return prob * enumerate_all(vars_left[1:], evidence, bayes_net)\n",
        "    else:\n",
        "        # Sum over all possible values\n",
        "        total = 0.0\n",
        "        # Determine possible values dynamically\n",
        "        if not node['parents']:\n",
        "            possible_values = [True, False] if isinstance(node['cpt'], (int, float)) else list(node['cpt'].keys())\n",
        "        else:\n",
        "            first_parent_combo = next(iter(node['cpt']))\n",
        "            prob_entry = node['cpt'][first_parent_combo]\n",
        "            possible_values = [True, False] if isinstance(prob_entry, (int, float)) else list(prob_entry.keys())\n",
        "        \n",
        "        for val in possible_values:\n",
        "            new_evidence = evidence.copy()\n",
        "            new_evidence[current_var] = val\n",
        "            prob = get_prob(current_var, val, new_evidence, bayes_net)\n",
        "            total += prob * enumerate_all(vars_left[1:], new_evidence, bayes_net)\n",
        "        return total\n",
        "\n",
        "def query_enum(query_var, query_val, evidence, bayes_net):\n",
        "    \"\"\"Exact query answering matching mathematical formulation.\"\"\"\n",
        "    # Check if query_var is already in evidence\n",
        "    if query_var in evidence:\n",
        "        return 1.0 if evidence[query_var] == query_val else 0.0\n",
        "    \n",
        "    # Calculate P(query_val, evidence)\n",
        "    evidence_with_query = evidence.copy()\n",
        "    evidence_with_query[query_var] = query_val\n",
        "    numerator = enumerate_all(variables, evidence_with_query, bayes_net)\n",
        "    \n",
        "    # Calculate P(evidence)\n",
        "    denominator = 0.0\n",
        "    # Get possible values for query variable\n",
        "    query_node = bayes_net[query_var]\n",
        "    if not query_node['parents']:\n",
        "        possible_values = [True, False] if isinstance(query_node['cpt'], (int, float)) else list(query_node['cpt'].keys())\n",
        "    else:\n",
        "        first_parent_combo = next(iter(query_node['cpt']))\n",
        "        prob_entry = query_node['cpt'][first_parent_combo]\n",
        "        possible_values = [True, False] if isinstance(prob_entry, (int, float)) else list(prob_entry.keys())\n",
        "    \n",
        "    for val in possible_values:\n",
        "        evidence_with_val = evidence.copy()\n",
        "        evidence_with_val[query_var] = val\n",
        "        denominator += enumerate_all(variables, evidence_with_val, bayes_net)\n",
        "    \n",
        "    return numerator / denominator if denominator > 0 else 0.0"
      ]
    },
    {
      "cell_type": "code",
      "execution_count": 1791,
      "metadata": {
        "colab": {
          "base_uri": "https://localhost:8080/"
        },
        "id": "bLlNYAgkUGFH",
        "outputId": "0c21735f-25b1-4b1f-b7e6-31c6d86f2bdd"
      },
      "outputs": [
        {
          "name": "stdout",
          "output_type": "stream",
          "text": [
            "P(S = 'high' | H=True, W=True) = 0.5716\n"
          ]
        }
      ],
      "source": [
        "#  Example: P(S='high' | H=True, W=True)\n",
        "\n",
        "result = query_enum('S', 'high', {'H': True, 'W': True}, bayes_net)\n",
        "print(f\"P(S = 'high' | H=True, W=True) = {result:.4f}\")\n"
      ]
    },
    {
      "cell_type": "markdown",
      "metadata": {
        "id": "wwMEd-Bj4x-m"
      },
      "source": [
        "#  Step 3: Inference with Variable Elimination\n",
        "\n",
        "In this step, you will implement **inference using Variable Elimination** — an exact, more efficient alternative to Enumeration.\n",
        "\n",
        "---\n",
        "\n",
        "## Core Ideas:\n",
        "\n",
        "- Instead of computing the full joint distribution, we work with **factors**.\n",
        "- A factor is a table mapping variable assignments to probabilities.\n",
        "- We **join factors** together (multiplication).\n",
        "- We **eliminate hidden variables** (sum them out).\n",
        "- At the end, we normalize the final factor.\n",
        "\n",
        "---\n",
        "\n",
        "## Inputs\n",
        "- `query_var`: The variable we're asking about (e.g. `'S'`)\n",
        "- `query_val`: The value we want (e.g. `'high'`)\n",
        "- `evidence`: Observed variables\n",
        "- `bayes_net`: The full Bayesian Network\n",
        "\n",
        "---\n",
        "\n",
        "## What You’ll Implement\n",
        "1. **Factor Construction**: Build initial factors from CPTs.\n",
        "2. **Restrict for Evidence**: Incorporate evidence early by pruning CPTs.\n",
        "3. **Join**: Combine factors that mention the same variable.\n",
        "4. **Eliminate**: Marginalize out variables not in the query or evidence.\n",
        "5. **Normalize**: Get valid probability distribution.\n",
        "\n",
        "---\n",
        "\n"
      ]
    },
    {
      "cell_type": "code",
      "execution_count": 1792,
      "metadata": {
        "id": "v0rNcjnD5FlA"
      },
      "outputs": [],
      "source": [
        "def make_factor(var, bayes_net, evidence):\n",
        "    node = bayes_net[var]\n",
        "    parents = node['parents']\n",
        "    all_vars = parents + [var]\n",
        "    domains = [bayes_net[v]['values'] for v in all_vars]\n",
        "    table = {}\n",
        "\n",
        "    for assignment in product(*domains):\n",
        "        assign_dict = dict(zip(all_vars, assignment))\n",
        "\n",
        "        # Skip inconsistent evidence\n",
        "        if any(evidence.get(v) is not None and evidence[v] != val for v, val in assign_dict.items()):\n",
        "            continue\n",
        "\n",
        "        # Extract CPT probability\n",
        "        if parents:\n",
        "            parent_vals = tuple(assign_dict[p] for p in parents) if len(parents) > 1 else assign_dict[parents[0]]\n",
        "            prob = node['cpt'][parent_vals][assign_dict[var]]\n",
        "        else:\n",
        "            prob = node['cpt'][assign_dict[var]]\n",
        "\n",
        "        key = tuple(assign_dict[v] for v in all_vars)\n",
        "        table[key] = prob\n",
        "\n",
        "    return {'vars': all_vars, 'table': table}\n",
        "\n",
        "def join_factors(f1, f2):\n",
        "    vars_all = list(dict.fromkeys(f1['vars'] + f2['vars']))\n",
        "    domains = [bayes_net[v]['values'] for v in vars_all]\n",
        "    table = {}\n",
        "\n",
        "    for assignment in product(*domains):\n",
        "        assign_dict = dict(zip(vars_all, assignment))\n",
        "        try:\n",
        "            a1 = tuple(assign_dict[v] for v in f1['vars'])\n",
        "            a2 = tuple(assign_dict[v] for v in f2['vars'])\n",
        "            p = f1['table'][a1] * f2['table'][a2]\n",
        "            table[tuple(assign_dict[v] for v in vars_all)] = p\n",
        "        except KeyError:\n",
        "            continue\n",
        "\n",
        "    return {'vars': vars_all, 'table': table}\n",
        "\n",
        "def eliminate(var, factor):\n",
        "    var_idx = factor['vars'].index(var)\n",
        "    new_vars = [v for v in factor['vars'] if v != var]\n",
        "    domains = [bayes_net[v]['values'] for v in new_vars]\n",
        "    table = {}\n",
        "\n",
        "    for assignment in product(*domains):\n",
        "        prob_sum = 0\n",
        "        for val in bayes_net[var]['values']:\n",
        "            full_assignment = list(assignment)\n",
        "            full_assignment.insert(var_idx, val)\n",
        "            prob_sum += factor['table'].get(tuple(full_assignment), 0)\n",
        "        table[assignment] = prob_sum\n",
        "\n",
        "    return {'vars': new_vars, 'table': table}\n",
        "\n",
        "def query_ve(query_var, query_val, evidence, bayes_net):\n",
        "    # Step 1: Build initial factors\n",
        "    factors = [make_factor(var, bayes_net, evidence) for var in bayes_net]\n",
        "\n",
        "    # Step 2: Eliminate hidden variables\n",
        "    hidden_vars = [v for v in bayes_net if v not in evidence and v != query_var]\n",
        "\n",
        "    for var in hidden_vars:\n",
        "        relevant = [f for f in factors if var in f['vars']]\n",
        "        if not relevant:\n",
        "            continue\n",
        "        new_factor = relevant[0]\n",
        "        for f in relevant[1:]:\n",
        "            new_factor = join_factors(new_factor, f)\n",
        "        reduced = eliminate(var, new_factor)\n",
        "        factors = [f for f in factors if f not in relevant]\n",
        "        factors.append(reduced)\n",
        "\n",
        "    # Step 3: Join remaining factors\n",
        "    result = factors[0]\n",
        "    for f in factors[1:]:\n",
        "        result = join_factors(result, f)\n",
        "\n",
        "    # Step 4: Normalize\n",
        "    query_idx = result['vars'].index(query_var)\n",
        "    dist = {}\n",
        "    for k, v in result['table'].items():\n",
        "        key = k[query_idx]\n",
        "        dist[key] = dist.get(key, 0) + v\n",
        "\n",
        "    total = sum(dist.values())\n",
        "    if total == 0:\n",
        "        return 0.0\n",
        "    return dist.get(query_val, 0) / total\n"
      ]
    },
    {
      "cell_type": "code",
      "execution_count": 1793,
      "metadata": {
        "colab": {
          "base_uri": "https://localhost:8080/"
        },
        "id": "P9DF28NA5Ny-",
        "outputId": "ec1309c3-d062-4d3f-e299-5a13f490a6c4"
      },
      "outputs": [
        {
          "name": "stdout",
          "output_type": "stream",
          "text": [
            "P(S = 'high' | H=True, W=True) = 0.5716\n"
          ]
        }
      ],
      "source": [
        "# Test: What is P(S='high' | H=True, W=True)?\n",
        "result_ve = query_ve('S', 'high', {'H': True, 'W': True}, bayes_net)\n",
        "print(f\"P(S = 'high' | H=True, W=True) = {result_ve:.4f}\")"
      ]
    },
    {
      "cell_type": "markdown",
      "metadata": {
        "id": "O_h-CZhx7aFV"
      },
      "source": [
        "\n",
        "## Compare Enumeration vs. Variable Elimination\n",
        "Explain your answer in each question\n",
        "1. Do both methods return the **same probability** for your chosen query and evidence? Why or why not?\n",
        "بله زیرا در هیچ کدام از روش ها تقریبی استفاده نکردیم و به طور دقیق مقادیر را حساب کردیم.\n",
        "\n",
        "2. Which method was **faster** in your tests? Provide the execution times.\n",
        "we expect elimination to be faster but here because of small size of bayes_net it may not show differences.\n",
        "\n",
        "3. Why is **Variable Elimination** usually more efficient than Enumeration, especially for larger networks?\n",
        "چون هیچوقت جدولی که همه متغیر ها در آن حضور داشته باشند نخواهیم داشت که این جلوی بزرگ شدن جداول به صورت نمایی را میگیرد و در عوض وقتی جدول جدیدی میسازیم که از چند متغیر استفاده میکند در مرحله بعد یک جمع کردن داریم که حداقل یکی از متغیر ها را کم میکند.\n",
        "4. Can you think of a scenario where Enumeration might be **simpler or more appropriate** to use than VE?\n",
        "در حالت هایی که اندازه شبکه بیز کوچک باشد یا در حالتی که همه احتمالات مشترک را بخواهیم و فقط به یک استنتاج خاص نیاز نداشته باشیم\n",
        "5. What would happen to the performance of each method if the number of variables doubled? Try to explain without coding it.\n",
        "enumeration: exp in the number of variables and this is for binary variables and if size of variables is doubeled runtime gets 2^n times bigger\n",
        "\n",
        "VE:  it is polynomial it tree-width d is tree width and runtime is n.k^d and when size of variables is doubled runtime is doubled too."
      ]
    },
    {
      "cell_type": "markdown",
      "metadata": {
        "id": "4s6QWnAH9flZ"
      },
      "source": [
        "# Step 4: Approximate Inference with Sampling\n",
        "\n",
        "In this part, you'll implement two approximate inference algorithms:\n",
        "- **Rejection Sampling**\n",
        "- **Likelihood Weighting**\n",
        "\n",
        "These methods generate random samples from the Bayesian Network to estimate conditional probabilities.\n",
        "\n",
        "---\n",
        "\n",
        "##  Rejection Sampling\n",
        "\n",
        "- Sample all variables from the prior distribution.\n",
        "- **Reject** any sample that does not match the evidence.\n",
        "- Among accepted samples, estimate the query probability.\n",
        "\n",
        "\n",
        "---\n",
        "\n",
        "##  Likelihood Weighting\n",
        "\n",
        "- Sample variables in topological order.\n",
        "- For **evidence variables**, **fix** their value and assign a **weight** equal to the likelihood of observing that value.\n",
        "- For non-evidence variables, sample normally.\n",
        "- Compute a weighted average of the query variable.\n",
        "\n",
        "---\n",
        "\n",
        "##  Your Tasks\n",
        "\n",
        "Implement the following:\n",
        "- `rejection_sampling(query_var, query_val, evidence, bayes_net, N)`\n",
        "- `likelihood_weighting(query_var, query_val, evidence, bayes_net, N)`\n"
      ]
    },
    {
      "cell_type": "code",
      "execution_count": 1794,
      "metadata": {
        "id": "RYd62E128UHF"
      },
      "outputs": [],
      "source": [
        "import random\n",
        "\n",
        "# === STEP 4: Approximate Inference with Sampling ===\n",
        "# ---------------------------------------------------\n",
        "\n",
        "# Rejection Sampling ---\n",
        "def rejection_sampling(query_var, query_val, evidence, bayes_net, N=1000):\n",
        "    samples = []\n",
        "    \n",
        "    for _ in range(N):\n",
        "        sample = prior_sample(bayes_net)\n",
        "        # Only keep samples consistent with evidence\n",
        "        if all(sample[var] == val for var, val in evidence.items()):\n",
        "            samples.append(sample)\n",
        "    \n",
        "    if not samples:\n",
        "        return 0.0\n",
        "    \n",
        "    # Now, among accepted samples, compute how many match query\n",
        "    matches = sum(1 for sample in samples if sample[query_var] == query_val)\n",
        "    \n",
        "    return matches / len(samples)\n",
        "\n",
        "\n",
        "\n",
        "# Likelihood Weighting ---\n",
        "def likelihood_weighting(query_var, query_val, evidence, bayes_net, N=1000):\n",
        "    weighted_sum = 0.0\n",
        "    total_weight = 0.0\n",
        "    for _ in range(N):\n",
        "        sample, weight = weighted_sample(bayes_net, evidence)\n",
        "        if sample[query_var] == query_val:\n",
        "            weighted_sum += weight\n",
        "        total_weight += weight\n",
        "    if total_weight == 0:\n",
        "        return 0\n",
        "    return weighted_sum / total_weight\n",
        "# Prior Sampling Helper (for Rejection Sampling) ---\n",
        "def prior_sample(bayes_net):\n",
        "    sample = {}\n",
        "    for var in bayes_net:\n",
        "        node = bayes_net[var]\n",
        "        parents = node['parents']\n",
        "        if not parents:\n",
        "            dist = node['cpt']\n",
        "        else:\n",
        "            key = tuple(sample[parent] for parent in parents) if len(parents) > 1 else sample[parents[0]]\n",
        "            dist = node['cpt'][key]\n",
        "        \n",
        "        # Now sample from dist properly\n",
        "        values, probs = zip(*dist.items())  # unzip keys and probabilities\n",
        "        sampled_value = random.choices(values, weights=probs)[0]\n",
        "        sample[var] = sampled_value\n",
        "    return sample\n",
        "\n",
        "# Weighted Sampling Helper (for Likelihood Weighting)\n",
        "def weighted_sample(bayes_net, evidence):\n",
        "    sample = {}\n",
        "    weight = 1.0\n",
        "    for var in bayes_net:\n",
        "        node = bayes_net[var]\n",
        "        parents = node['parents']\n",
        "        if not parents:\n",
        "            dist = node['cpt']\n",
        "        else:\n",
        "            key = tuple(sample[parent] for parent in parents) if len(parents) > 1 else sample[parents[0]]\n",
        "            dist = node['cpt'][key]\n",
        "\n",
        "        if var in evidence:\n",
        "            sample[var] = evidence[var]\n",
        "            weight *= dist.get(evidence[var], 0)\n",
        "        else:\n",
        "            values, probs = zip(*dist.items())\n",
        "            sampled_value = random.choices(values, weights=probs)[0]\n",
        "            sample[var] = sampled_value\n",
        "    return sample, weight\n"
      ]
    },
    {
      "cell_type": "code",
      "execution_count": 1795,
      "metadata": {
        "colab": {
          "base_uri": "https://localhost:8080/"
        },
        "id": "ngbLDozq8fxC",
        "outputId": "8a0c3510-5a8c-43f3-96cd-5b1df16503f4"
      },
      "outputs": [
        {
          "name": "stdout",
          "output_type": "stream",
          "text": [
            "Rejection Sampling:      P(S='high' | H=True, W=True) ≈ 0.5618\n",
            "Likelihood Weighting:    P(S='high' | H=True, W=True) ≈ 0.5754\n"
          ]
        }
      ],
      "source": [
        "evidence = {'H': True, 'W': True}\n",
        "query = ('S', 'high')\n",
        "\n",
        "res_reject = rejection_sampling(*query, evidence, bayes_net, N=10000)\n",
        "res_lw = likelihood_weighting(*query, evidence, bayes_net, N=10000)\n",
        "\n",
        "print(f\"Rejection Sampling:      P(S='high' | H=True, W=True) ≈ {res_reject:.4f}\")\n",
        "print(f\"Likelihood Weighting:    P(S='high' | H=True, W=True) ≈ {res_lw:.4f}\")\n"
      ]
    },
    {
      "cell_type": "code",
      "execution_count": 1796,
      "metadata": {
        "colab": {
          "base_uri": "https://localhost:8080/"
        },
        "id": "v5DTO_VhClpI",
        "outputId": "94da1002-8830-41c7-dd26-ef0533f2379a"
      },
      "outputs": [
        {
          "name": "stdout",
          "output_type": "stream",
          "text": [
            "🔍 Testing Inference Methods with Various Queries:\n",
            "\n",
            " Query: P(P = True | {'H': True, 'W': True})\n",
            "  ➤ Enumeration:         0.9500\n",
            "  ➤ Variable Elimination:0.9500\n",
            "  ➤ Rejection Sampling:  0.9570\n",
            "  ➤ Likelihood Weighting:0.9530\n",
            "------------------------------------------------------------\n",
            " Query: P(P = True | {'H': False, 'W': False})\n",
            "  ➤ Enumeration:         0.1000\n",
            "  ➤ Variable Elimination:0.1000\n",
            "  ➤ Rejection Sampling:  0.1181\n",
            "  ➤ Likelihood Weighting:0.0992\n",
            "------------------------------------------------------------\n",
            " Query: P(M = True | {'H': True, 'W': True})\n",
            "  ➤ Enumeration:         0.7860\n",
            "  ➤ Variable Elimination:0.7860\n",
            "  ➤ Rejection Sampling:  0.8122\n",
            "  ➤ Likelihood Weighting:0.7852\n",
            "------------------------------------------------------------\n",
            " Query: P(M = False | {'F': False, 'P': False})\n",
            "  ➤ Enumeration:         0.8000\n",
            "  ➤ Variable Elimination:0.8000\n",
            "  ➤ Rejection Sampling:  0.8093\n",
            "  ➤ Likelihood Weighting:0.7959\n",
            "------------------------------------------------------------\n",
            " Query: P(S = high | {'H': True, 'W': True})\n",
            "  ➤ Enumeration:         0.5716\n",
            "  ➤ Variable Elimination:0.5716\n",
            "  ➤ Rejection Sampling:  0.5890\n",
            "  ➤ Likelihood Weighting:0.5666\n",
            "------------------------------------------------------------\n",
            " Query: P(S = low | {'H': False, 'W': False})\n",
            "  ➤ Enumeration:         0.2986\n",
            "  ➤ Variable Elimination:0.2986\n",
            "  ➤ Rejection Sampling:  0.2970\n",
            "  ➤ Likelihood Weighting:0.2936\n",
            "------------------------------------------------------------\n"
          ]
        }
      ],
      "source": [
        "print(\"🔍 Testing Inference Methods with Various Queries:\\n\")\n",
        "\n",
        "queries = [\n",
        "    # Format: (query_var, query_val, evidence)\n",
        "    ('P', True, {'H': True, 'W': True}),\n",
        "    ('P', True, {'H': False, 'W': False}),\n",
        "    ('M', True, {'H': True, 'W': True}),\n",
        "    ('M', False, {'F': False, 'P': False}),\n",
        "    ('S', 'high', {'H': True, 'W': True}),\n",
        "    ('S', 'low', {'H': False, 'W': False}),\n",
        "]\n",
        "\n",
        "for (q_var, q_val, evidence) in queries:\n",
        "    print(f\" Query: P({q_var} = {q_val} | {evidence})\")\n",
        "\n",
        "    # Enumeration\n",
        "    res_enum = query_enum(q_var, q_val, evidence, bayes_net)\n",
        "    print(f\"  ➤ Enumeration:         {res_enum:.4f}\")\n",
        "\n",
        "    # Variable Elimination\n",
        "    res_ve = query_ve(q_var, q_val, evidence, bayes_net)\n",
        "    print(f\"  ➤ Variable Elimination:{res_ve:.4f}\")\n",
        "\n",
        "    # Rejection Sampling\n",
        "    res_reject = rejection_sampling(q_var, q_val, evidence, bayes_net, N=5000)\n",
        "    print(f\"  ➤ Rejection Sampling:  {res_reject:.4f}\")\n",
        "\n",
        "    # Likelihood Weighting\n",
        "    res_lw = likelihood_weighting(q_var, q_val, evidence, bayes_net, N=5000)\n",
        "    print(f\"  ➤ Likelihood Weighting:{res_lw:.4f}\")\n",
        "\n",
        "    print(\"-\" * 60)\n"
      ]
    }
  ],
  "metadata": {
    "colab": {
      "provenance": []
    },
    "kernelspec": {
      "display_name": "Python 3",
      "name": "python3"
    },
    "language_info": {
      "codemirror_mode": {
        "name": "ipython",
        "version": 3
      },
      "file_extension": ".py",
      "mimetype": "text/x-python",
      "name": "python",
      "nbconvert_exporter": "python",
      "pygments_lexer": "ipython3",
      "version": "3.13.2"
    }
  },
  "nbformat": 4,
  "nbformat_minor": 0
}
